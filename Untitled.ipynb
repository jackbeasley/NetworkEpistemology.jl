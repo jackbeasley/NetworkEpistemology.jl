{
 "cells": [
  {
   "cell_type": "code",
   "execution_count": 1,
   "metadata": {},
   "outputs": [],
   "source": [
    "using LightGraphs"
   ]
  },
  {
   "cell_type": "code",
   "execution_count": 3,
   "metadata": {},
   "outputs": [
    {
     "data": {
      "text/plain": [
       "10-element Array{LightGraphs.SimpleGraphs.SimpleEdge{Int64},1}:\n",
       " Edge 1 => 2\n",
       " Edge 1 => 5\n",
       " Edge 2 => 1\n",
       " Edge 2 => 3\n",
       " Edge 3 => 2\n",
       " Edge 3 => 4\n",
       " Edge 4 => 3\n",
       " Edge 4 => 5\n",
       " Edge 5 => 1\n",
       " Edge 5 => 4"
      ]
     },
     "execution_count": 3,
     "metadata": {},
     "output_type": "execute_result"
    }
   ],
   "source": [
    "collect(edges(SimpleDiGraph(cycle_graph(5))))"
   ]
  },
  {
   "cell_type": "code",
   "execution_count": 4,
   "metadata": {},
   "outputs": [
    {
     "name": "stdout",
     "output_type": "stream",
     "text": [
      "{5, 10} directed simple Int64 graph\n"
     ]
    }
   ],
   "source": [
    "println(SimpleDiGraph(cycle_graph(5)))"
   ]
  }
 ],
 "metadata": {
  "kernelspec": {
   "display_name": "Julia 1.3.0",
   "language": "julia",
   "name": "julia-1.3"
  },
  "language_info": {
   "file_extension": ".jl",
   "mimetype": "application/julia",
   "name": "julia",
   "version": "1.3.0"
  }
 },
 "nbformat": 4,
 "nbformat_minor": 2
}
